{
 "cells": [
  {
   "cell_type": "markdown",
   "metadata": {},
   "source": [
    "By altering out kernels we can implement sharpering, which has the effects of in strengthening or emphazing edges in an image"
   ]
  },
  {
   "cell_type": "code",
   "execution_count": 4,
   "metadata": {},
   "outputs": [],
   "source": [
    "import cv2\n",
    "import numpy as np\n",
    "\n",
    "image=cv2.imread(\"images/bus_stop/1.jpg\")\n",
    "cv2.imshow(\"Original\",image)\n",
    "cv2.waitKey()\n",
    "\n",
    "#Create our sharpering kernel, we don't normalize since the valuesin the matrix sum 1\n",
    "kernel_sharp=np.array([[-1,-1,-1],\n",
    "                      [-1,9,-1],\n",
    "                      [-1,-1,-1]])\n",
    "\n",
    "#applying different kernels to the input image\n",
    "sharpened=cv2.filter2D(image,-1,kernel_sharp)\n",
    "\n",
    "cv2.imshow(\"Image Sharpened\", sharpened)\n",
    "cv2.waitKey()\n",
    "cv2.destroyAllWindows()"
   ]
  },
  {
   "cell_type": "code",
   "execution_count": null,
   "metadata": {},
   "outputs": [],
   "source": []
  }
 ],
 "metadata": {
  "kernelspec": {
   "display_name": "Python 3",
   "language": "python",
   "name": "python3"
  },
  "language_info": {
   "codemirror_mode": {
    "name": "ipython",
    "version": 3
   },
   "file_extension": ".py",
   "mimetype": "text/x-python",
   "name": "python",
   "nbconvert_exporter": "python",
   "pygments_lexer": "ipython3",
   "version": "3.6.5"
  }
 },
 "nbformat": 4,
 "nbformat_minor": 2
}
