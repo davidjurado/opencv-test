{
 "cells": [
  {
   "cell_type": "markdown",
   "metadata": {},
   "source": [
    "**cv2.matchShapes(contour template, contour, method, method parameter)**\n",
    "\n",
    "**Output** - match value (lower values means a closer match)\n",
    "\n",
    "* Contour Template - This is our reference contour that we're trying to find in the new image\n",
    "* Contour -  The individual contour we are cheking against\n",
    "* Method - Type of contour matching (1,2,3)\n",
    "* Method Parameter - Leave alone as 0.0 (not fully utilized in python OpenCV)"
   ]
  },
  {
   "cell_type": "code",
   "execution_count": 9,
   "metadata": {},
   "outputs": [
    {
     "name": "stdout",
     "output_type": "stream",
     "text": [
      "0.29441756226263066\n",
      "0.3360366550134125\n",
      "0.37414760688706517\n",
      "0.025307919242120835\n"
     ]
    }
   ],
   "source": [
    "import cv2\n",
    "import numpy as np\n",
    "\n",
    "#Load the shape template or reference image\n",
    "template = cv2.imread(\"images/star_templetate.png\",0)\n",
    "cv2.imshow(\"Template\",template)\n",
    "cv2.waitKey()\n",
    "\n",
    "#Load the target image with the shapes we're trying to match\n",
    "target = cv2.imread(\"images/target3.png\")\n",
    "target_gray=cv2.cvtColor(target,cv2.COLOR_BGR2GRAY)\n",
    "\n",
    "#Threshold both images fisrt before using cv2.findContours\n",
    "ret,thresh1 = cv2.threshold(template,127,255,0)\n",
    "ret,thresh2 = cv2.threshold(target_gray,127,255,0)\n",
    "\n",
    "#Find contours in template\n",
    "_,contours, hierarchy = cv2.findContours(thresh1.copy(), cv2.RETR_CCOMP, cv2.CHAIN_APPROX_SIMPLE)\n",
    "\n",
    "#we need to sort the contours by area so that we can remove the largest\n",
    "#contour which is the image outline\n",
    "sorted_contours = sorted(contours, key=cv2.contourArea, reverse=True)\n",
    "\n",
    "#We  extract the second largest contour which will be our template contour\n",
    "template_contour = contours[1]\n",
    "\n",
    "#Extract contour from second target image\n",
    "_,contours, hierarchy = cv2.findContours(thresh2.copy(), cv2.RETR_CCOMP, cv2.CHAIN_APPROX_SIMPLE)\n",
    "\n",
    "for c in contours:\n",
    "    #Iterate through each contour in the target image and\n",
    "    #use cv2.matchShapes to compare contour shapes\n",
    "    match = cv2.matchShapes(template_contour,c,1,0.0)\n",
    "    print(match)\n",
    "    #if the match value is less than 0.15 we\n",
    "    if match < 0.15:\n",
    "        closest_contour = c\n",
    "    else:\n",
    "        closest_contour = []\n",
    "        \n",
    "cv2.drawContours(target,[closest_contour][0],-1, (0,255,0), 3)\n",
    "cv2.imshow(\"Output\", target)\n",
    "cv2.waitKey()\n",
    "cv2.destroyAllWindows()"
   ]
  },
  {
   "cell_type": "markdown",
   "metadata": {},
   "source": [
    "http://docs.opencv.org/2.4/modules/imgproc/doc/structural_analysis_and_shape_descriptors.html"
   ]
  },
  {
   "cell_type": "code",
   "execution_count": null,
   "metadata": {},
   "outputs": [],
   "source": []
  }
 ],
 "metadata": {
  "kernelspec": {
   "display_name": "Python 3",
   "language": "python",
   "name": "python3"
  },
  "language_info": {
   "codemirror_mode": {
    "name": "ipython",
    "version": 3
   },
   "file_extension": ".py",
   "mimetype": "text/x-python",
   "name": "python",
   "nbconvert_exporter": "python",
   "pygments_lexer": "ipython3",
   "version": "3.6.5"
  }
 },
 "nbformat": 4,
 "nbformat_minor": 2
}
