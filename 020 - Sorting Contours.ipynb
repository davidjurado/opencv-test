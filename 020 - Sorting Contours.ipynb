{
 "cells": [
  {
   "cell_type": "code",
   "execution_count": 2,
   "metadata": {},
   "outputs": [
    {
     "name": "stdout",
     "output_type": "stream",
     "text": [
      "Number of contours found: 5\n"
     ]
    }
   ],
   "source": [
    "import cv2\n",
    "import numpy as np\n",
    "\n",
    "#Load our image\n",
    "image = cv2.imread(\"images/test.png\")\n",
    "cv2.imshow(\"Original image\",image)\n",
    "cv2.waitKey()\n",
    "\n",
    "#Create a black image with same dimensions as our loaded image\n",
    "blank_image = np.zeros((image.shape[0],image.shape[1],3))\n",
    "\n",
    "#create a copy of our original image\n",
    "original_image=image\n",
    "\n",
    "#grayscale our image\n",
    "gray=cv2.cvtColor(image,cv2.COLOR_BGR2GRAY)\n",
    "\n",
    "#find the edges\n",
    "edged = cv2.Canny(gray,50,200)\n",
    "cv2.imshow(\"Canny Edges\",edged)\n",
    "cv2.waitKey()\n",
    "\n",
    "#Find contours and print how many were found\n",
    "_,contours, hierarchy = cv2.findContours(edged.copy(), cv2.RETR_EXTERNAL, cv2.CHAIN_APPROX_NONE)\n",
    "print(\"Number of contours found: \"+str(len(contours)))\n",
    "\n",
    "#Draw all contours\n",
    "cv2.drawContours(image,contours,-1,(0,255,0),3)\n",
    "cv2.imshow(\"All contours\",image)\n",
    "cv2.waitKey()\n",
    "\n",
    "#Draw all contours over blank image\n",
    "cv2.drawContours(blank_image,contours,-1,(0,255,0),3)\n",
    "cv2.imshow(\"All contours over blank image\",blank_image)\n",
    "cv2.waitKey()\n",
    "\n",
    "cv2.destroyAllWindows()"
   ]
  },
  {
   "cell_type": "markdown",
   "metadata": {},
   "source": [
    "Let's now sort by area"
   ]
  },
  {
   "cell_type": "code",
   "execution_count": 3,
   "metadata": {},
   "outputs": [
    {
     "name": "stdout",
     "output_type": "stream",
     "text": [
      "Contor areas before sorting\n",
      "[2214.0, 2748.0, 6435.0, 12405.0, 7716.0]\n",
      "Contor areas after sorting\n",
      "[12405.0, 7716.0, 6435.0, 2748.0, 2214.0]\n"
     ]
    }
   ],
   "source": [
    "import cv2\n",
    "import numpy as np\n",
    "\n",
    "#function we'll  use to display contour area\n",
    "\n",
    "def get_contour_areas(contours):\n",
    "    #return the areas of all contours as list\n",
    "    all_areas=[]\n",
    "    for cnt in contours:\n",
    "        area=cv2.contourArea(cnt)\n",
    "        all_areas.append(area)\n",
    "    return all_areas\n",
    "\n",
    "#Load our image\n",
    "image = cv2.imread(\"images/test.png\")\n",
    "original_image=image\n",
    "\n",
    "#Let's print the areas of the contours before sorting\n",
    "print(\"Contor areas before sorting\")\n",
    "print(get_contour_areas(contours))\n",
    "\n",
    "#Sort contours large to small\n",
    "sorted_contours = sorted(contours, key=cv2.contourArea, reverse=True)\n",
    "#sorted_contours = sorted(contours, key=cv2.contourArea, reverse=True)[:3]\n",
    "\n",
    "print(\"Contor areas after sorting\")\n",
    "print(get_contour_areas(sorted_contours))\n",
    "\n",
    "#Iterate over our contours and draw one at a time\n",
    "for c in sorted_contours:\n",
    "    cv2.drawContours(original_image,[c],-1,(255,0,0),3)\n",
    "    cv2.waitKey()\n",
    "    cv2.imshow(\"Contours by area\",original_image)\n",
    "    \n",
    "cv2.waitKey()\n",
    "cv2.destroyAllWindows()"
   ]
  },
  {
   "cell_type": "markdown",
   "metadata": {},
   "source": [
    "Sorting contours from left to right"
   ]
  },
  {
   "cell_type": "code",
   "execution_count": 6,
   "metadata": {},
   "outputs": [
    {
     "name": "stdout",
     "output_type": "stream",
     "text": [
      "output_shape_number_1.jpg\n",
      "output_shape_number_2.jpg\n",
      "output_shape_number_3.jpg\n",
      "output_shape_number_4.jpg\n",
      "output_shape_number_5.jpg\n"
     ]
    }
   ],
   "source": [
    "#functions we'll use for sorting by position\n",
    "\n",
    "def x_cord_contour(contours):\n",
    "    #Return the X cordinate for contour centroid\n",
    "    if cv2.contourArea(contours)>10:\n",
    "        M = cv2.moments(contours) #returns the center point\n",
    "        return(int(M['m10']/M['m00']))\n",
    "    \n",
    "def label_contour_center(image,c):\n",
    "    #places a red circle on the centers of contours\n",
    "    M = cv2.moments(c)\n",
    "    cx = int(M['m10']/M['m00'])\n",
    "    cy = int(M['m01']/M['m00'])\n",
    "    #draw the contour number on the image\n",
    "    cv2.circle(image,(cx,cy),10,(0,0,255),-1)\n",
    "    return image\n",
    "\n",
    "#Load our image\n",
    "image = cv2.imread(\"images/test.png\")\n",
    "original_image=image.copy()\n",
    "\n",
    "#compute center of mass of centroids and draw them on our image\n",
    "for(i,c) in enumerate(contours):\n",
    "    orig=label_contour_center(image,c)\n",
    "    \n",
    "cv2.imshow(\"Contour centers\",image)\n",
    "cv2.waitKey()\n",
    "\n",
    "#sort by left to right using our x_cord_contour function\n",
    "contours_left_to_right = sorted(contours, key = x_cord_contour,reverse=False)\n",
    "\n",
    "#Labeling contours left to right\n",
    "for(i,c) in enumerate(contours_left_to_right):\n",
    "    cv2.drawContours(original_image,[c],-1,(0,0,255),3)\n",
    "    M = cv2.moments(c)\n",
    "    cx = int(M['m10']/M['m00'])\n",
    "    cy = int(M['m01']/M['m00'])\n",
    "    cv2.putText(original_image, str(i+1), (cx,cy), cv2.FONT_HERSHEY_SIMPLEX,1,(0,255,0),2)\n",
    "    cv2.imshow(\"Left to right contour\", original_image)\n",
    "    cv2.waitKey()\n",
    "    (x,y,w,h)=cv2.boundingRect(c)\n",
    "    #Let's now crop each countour and save these images\n",
    "    cropped_contour=original_image[y:y+h,x:x+w]\n",
    "    image_name=\"output_shape_number_\"+str(i+1)+\".jpg\"\n",
    "    print(image_name)\n",
    "    cv2.imwrite(image_name,cropped_contour)\n",
    "    \n",
    "cv2.destroyAllWindows()"
   ]
  },
  {
   "cell_type": "code",
   "execution_count": null,
   "metadata": {},
   "outputs": [],
   "source": []
  }
 ],
 "metadata": {
  "kernelspec": {
   "display_name": "Python 3",
   "language": "python",
   "name": "python3"
  },
  "language_info": {
   "codemirror_mode": {
    "name": "ipython",
    "version": 3
   },
   "file_extension": ".py",
   "mimetype": "text/x-python",
   "name": "python",
   "nbconvert_exporter": "python",
   "pygments_lexer": "ipython3",
   "version": "3.6.5"
  }
 },
 "nbformat": 4,
 "nbformat_minor": 2
}
