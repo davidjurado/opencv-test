{
 "cells": [
  {
   "cell_type": "code",
   "execution_count": 6,
   "metadata": {},
   "outputs": [],
   "source": [
    "import cv2\n",
    "import numpy as np\n",
    "\n",
    "image=cv2.imread(\"images/bus_stop/1.jpg\")\n",
    "\n",
    "height, width = image.shape[:2]\n",
    "\n",
    "#Extract sobel edges\n",
    "sobel_x = cv2.Sobel(image,cv2.CV_64F,0,1,ksize=5)\n",
    "sobel_y = cv2.Sobel(image,cv2.CV_64F,1,0,ksize=5)\n",
    "\n",
    "cv2.imshow(\"Original\",image)\n",
    "cv2.waitKey()\n",
    "cv2.imshow(\"Sobel X\",sobel_x)\n",
    "cv2.waitKey()\n",
    "cv2.imshow(\"Sobel Y\",sobel_y)\n",
    "cv2.waitKey()\n",
    "\n",
    "sobel_OR = cv2.bitwise_or(sobel_x,sobel_y)\n",
    "cv2.imshow(\"Sobel OR\",sobel_OR)\n",
    "cv2.waitKey()\n",
    "\n",
    "laplacian=cv2.Laplacian(image,cv2.CV_64F)\n",
    "cv2.imshow(\"Laplacian\",laplacian)\n",
    "cv2.waitKey()\n",
    "\n",
    "cv2.destroyAllWindows()"
   ]
  },
  {
   "cell_type": "markdown",
   "metadata": {},
   "source": [
    "Then, we need to provide two values: threshold1 and threshold2. Any gradient value larger than threshold2 is cosidered to be an edge. Any value below thresghold is considered not be an edge.\n",
    "Values in between thershold1 and thresgold2 are either classfied as edges or non-edges based on how their intensities are \"connected\". In this case, any grandient values below 60 are considered non-edges whereas any values above 120 are considered edges.\n",
    "\n",
    "Canny Edge Detection uses gradient values as thresholds.\n",
    "The first threshold gradient"
   ]
  },
  {
   "cell_type": "code",
   "execution_count": 13,
   "metadata": {},
   "outputs": [],
   "source": [
    "canny=cv2.Canny(image,20,170)\n",
    "cv2.imshow(\"Canny\",canny)\n",
    "cv2.waitKey()\n",
    "\n",
    "cv2.destroyAllWindows()"
   ]
  },
  {
   "cell_type": "code",
   "execution_count": null,
   "metadata": {},
   "outputs": [],
   "source": []
  }
 ],
 "metadata": {
  "kernelspec": {
   "display_name": "Python 3",
   "language": "python",
   "name": "python3"
  },
  "language_info": {
   "codemirror_mode": {
    "name": "ipython",
    "version": 3
   },
   "file_extension": ".py",
   "mimetype": "text/x-python",
   "name": "python",
   "nbconvert_exporter": "python",
   "pygments_lexer": "ipython3",
   "version": "3.6.5"
  }
 },
 "nbformat": 4,
 "nbformat_minor": 2
}
