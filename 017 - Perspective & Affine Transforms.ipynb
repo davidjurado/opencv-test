{
 "cells": [
  {
   "cell_type": "code",
   "execution_count": 1,
   "metadata": {},
   "outputs": [],
   "source": [
    "#Getting perspective transform\n",
    "import cv2\n",
    "import numpy as np\n",
    "\n",
    "image=cv2.imread(\"images/paper_rotated.jpg\")\n",
    "\n",
    "cv2.imshow(\"Original\",image)\n",
    "cv2.waitKey()\n",
    "\n",
    "#Cordinates of the 4 corners of the original image\n",
    "points_A=np.float32([[336,86],[1552,341],[63,714],[1436,1092]])\n",
    "\n",
    "#Cordinates of the 4 corners of the desired output\n",
    "#we use a ratio of an A4 Paper 1: 1.41\n",
    "points_B=np.float32([[0,0],[800,0],[0,600],[800,600]])\n",
    "\n",
    "#Use the two sets of four points to compute\n",
    "#The perspective Transformation matrix, M\n",
    "M = cv2.getPerspectiveTransform(points_A,points_B)\n",
    "\n",
    "warped = cv2.warpPerspective(image,M,(800,600))\n",
    "\n",
    "cv2.imshow(\"WarpPerspective\",warped)\n",
    "cv2.waitKey()\n",
    "cv2.destroyAllWindows()"
   ]
  },
  {
   "cell_type": "markdown",
   "metadata": {},
   "source": [
    "In affine tranforms you only need 3 coordinates to obtain the correct tranform"
   ]
  },
  {
   "cell_type": "code",
   "execution_count": 1,
   "metadata": {},
   "outputs": [],
   "source": [
    "import cv2\n",
    "import numpy as np\n",
    "import matplotlib.pyplot as plt\n",
    "\n",
    "image=cv2.imread(\"images/paper_rotated.jpg\")\n",
    "rows,cols,ch=image.shape\n",
    "\n",
    "cv2.imshow(\"Original\",image)\n",
    "cv2.waitKey()\n",
    "\n",
    "#Cordinates of the 4 corners of the original image\n",
    "points_A=np.float32([[336,86],[1552,341],[63,714]])\n",
    "\n",
    "#Cordinates of the 4 corners of the desired output\n",
    "#we use a ratio of an A4 Paper 1: 1.41\n",
    "points_B=np.float32([[0,0],[800,0],[0,600]])\n",
    "\n",
    "#Use the two sets of four points to compute\n",
    "#The perspective Transformation matrix, M\n",
    "M = cv2.getAffineTransform(points_A,points_B)\n",
    "\n",
    "warped = cv2.warpAffine(image,M,(800,600))\n",
    "\n",
    "cv2.imshow(\"WarpPerspective\",warped)\n",
    "cv2.waitKey()\n",
    "cv2.destroyAllWindows()"
   ]
  },
  {
   "cell_type": "code",
   "execution_count": null,
   "metadata": {},
   "outputs": [],
   "source": []
  }
 ],
 "metadata": {
  "kernelspec": {
   "display_name": "Python 3",
   "language": "python",
   "name": "python3"
  },
  "language_info": {
   "codemirror_mode": {
    "name": "ipython",
    "version": 3
   },
   "file_extension": ".py",
   "mimetype": "text/x-python",
   "name": "python",
   "nbconvert_exporter": "python",
   "pygments_lexer": "ipython3",
   "version": "3.6.5"
  }
 },
 "nbformat": 4,
 "nbformat_minor": 2
}
