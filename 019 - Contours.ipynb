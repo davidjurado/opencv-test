{
 "cells": [
  {
   "cell_type": "code",
   "execution_count": 12,
   "metadata": {},
   "outputs": [
    {
     "name": "stdout",
     "output_type": "stream",
     "text": [
      "Number of contours after contouring: 5\n"
     ]
    }
   ],
   "source": [
    "import cv2\n",
    "import numpy as np\n",
    "\n",
    "#Let's Load a simple image with 3 black squares\n",
    "image = cv2.imread(\"images/test.png\")\n",
    "cv2.imshow(\"Input image\",image)\n",
    "cv2.waitKey()\n",
    "\n",
    "#GrayScale\n",
    "gray = cv2.cvtColor(image,cv2.COLOR_BGR2GRAY)\n",
    "\n",
    "#Find the edges\n",
    "edged=cv2.Canny(gray,30,200)\n",
    "cv2.imshow(\"Canny edges\",edged)\n",
    "cv2.waitKey()\n",
    "\n",
    "#Find contours. Use a copy of your image, since finContours alters the image\n",
    "_, contours, hierarchy = cv2.findContours(edged.copy(), cv2.RETR_EXTERNAL, cv2.CHAIN_APPROX_NONE)\n",
    "cv2.imshow(\"Canny edges after contouring\",edged)\n",
    "cv2.waitKey()\n",
    "\n",
    "print(\"Number of contours after contouring: \"+str(len(contours)))\n",
    "\n",
    "#Draw all contours. Use -1 as the 3rd parameter to draw all\n",
    "cv2.drawContours(image,contours,-1,(0,255,0),3)\n",
    "\n",
    "cv2.imshow(\"Contours\", image)\n",
    "cv2.waitKey()\n",
    "cv2.destroyAllWindows()"
   ]
  },
  {
   "cell_type": "markdown",
   "metadata": {},
   "source": [
    "**cv2.findContours(Image,Retrieval Mode, Approximation Method)**\n",
    "\n",
    "Returns->contours,hierarchy\n",
    "\n",
    "**Note** In OpenCV 3.X, findCountours return a 3rd argument wich is ret (or a boolean indicating if the function was successfully run).\n",
    "\n",
    "The variable 'countours' are stored as a numpy array of (x,y) points that form the contour\n",
    "\n",
    "While, 'hirarchy' describes the chlid-parent relationships between contours (i.e. contours within contours)\n",
    "\n",
    "**Approximation Methods**\n",
    "\n",
    "Using cv2.CHAIN_APPROX_NONE stores all the boundary points. But we don't necessarily need all bounding points. If the points form a straight line, we only need the start and ending points of that line.\n",
    "\n",
    "Using cv2.CHAIN_APPROX_SIMPLE instead only provides these start and end points of bounding contours, thus resulting in much more efficent storage of contour information."
   ]
  },
  {
   "cell_type": "code",
   "execution_count": null,
   "metadata": {},
   "outputs": [],
   "source": []
  }
 ],
 "metadata": {
  "kernelspec": {
   "display_name": "Python 3",
   "language": "python",
   "name": "python3"
  },
  "language_info": {
   "codemirror_mode": {
    "name": "ipython",
    "version": 3
   },
   "file_extension": ".py",
   "mimetype": "text/x-python",
   "name": "python",
   "nbconvert_exporter": "python",
   "pygments_lexer": "ipython3",
   "version": "3.6.5"
  }
 },
 "nbformat": 4,
 "nbformat_minor": 2
}
