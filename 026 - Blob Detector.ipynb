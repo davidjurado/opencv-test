{
 "cells": [
  {
   "cell_type": "code",
   "execution_count": 2,
   "metadata": {},
   "outputs": [],
   "source": [
    "import cv2\n",
    "import numpy as np\n",
    "\n",
    "image=cv2.imread(\"images/flowers.jpeg\",cv2.IMREAD_GRAYSCALE)\n",
    "\n",
    "#set up the detector with default parameters\n",
    "detector = cv2.ORB_create() #cv2.SimpleBlobDetector()\n",
    "\n",
    "#detect blobs\n",
    "keypoints=detector.detect(image)\n",
    "\n",
    "#Draw detected blobs as red circles.\n",
    "#cv2.DRAW_MATCHES_FLAGS_DRAW_RICH_KEYPOINTS ensures the size of the circle\n",
    "#correspond to the size of the blob\n",
    "blank=np.zeros((1,1))\n",
    "blobs=cv2.drawKeypoints(image,keypoints,blank,(0,255,255),cv2.DRAW_MATCHES_FLAGS_DEFAULT)\n",
    "\n",
    "#show keypoints\n",
    "cv2.imshow(\"Blobs\",blobs)\n",
    "cv2.waitKey()\n",
    "cv2.destroyAllWindows()"
   ]
  },
  {
   "cell_type": "markdown",
   "metadata": {},
   "source": [
    "The function **cv2.drawKeyPoints** takes the following arguments:\n",
    "\n",
    "**cv2.drawKeyPoints**(input image, keypoints, blank_output_array, color, flags)\n",
    "\n",
    "flags\n",
    "\n",
    "- cv2.DRAW_MATCHES_FLAGS_DEFAULT\n",
    "- cv2.DRAW_MATCHES_FLAGS_DRAW_RICH_KEYPOINTS\n",
    "- cv2.DRAW_MATCHES_FLAGS_DRAW_OVER_OUTIMG\n",
    "- cv2.DRAW_MATCHES_FLAGS_NOT_DRAW_SINGLE_POINT"
   ]
  },
  {
   "cell_type": "code",
   "execution_count": null,
   "metadata": {},
   "outputs": [],
   "source": []
  }
 ],
 "metadata": {
  "kernelspec": {
   "display_name": "Python 3",
   "language": "python",
   "name": "python3"
  },
  "language_info": {
   "codemirror_mode": {
    "name": "ipython",
    "version": 3
   },
   "file_extension": ".py",
   "mimetype": "text/x-python",
   "name": "python",
   "nbconvert_exporter": "python",
   "pygments_lexer": "ipython3",
   "version": "3.6.5"
  }
 },
 "nbformat": 4,
 "nbformat_minor": 2
}
