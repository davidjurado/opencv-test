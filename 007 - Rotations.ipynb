{
 "cells": [
  {
   "cell_type": "markdown",
   "metadata": {},
   "source": [
    "cv2.getRotationMatrix2D(rotation_center_x,rotation_center_y,anlge fo rotation,scale)"
   ]
  },
  {
   "cell_type": "code",
   "execution_count": 4,
   "metadata": {},
   "outputs": [
    {
     "name": "stdout",
     "output_type": "stream",
     "text": [
      "[[ 6.123234e-17  1.000000e+00  2.000000e+02]\n",
      " [-1.000000e+00  6.123234e-17  1.000000e+03]]\n"
     ]
    }
   ],
   "source": [
    "import cv2\n",
    "import numpy as np\n",
    "\n",
    "image=cv2.imread(\"images/bus_stop/1.jpg\")\n",
    "#guardarmos las dimensiones\n",
    "height, width = image.shape[:2]\n",
    "#divir entre 2 para rotar la imagen sobre el centro\n",
    "rotation_matrix=cv2.getRotationMatrix2D((width/2,height/2),90,1) #(punto de rotación,angulo,escala)\n",
    "\n",
    "rotated_image=cv2.warpAffine(image,rotation_matrix,(width,height))\n",
    "\n",
    "cv2.imshow(\"Original\",image)\n",
    "cv2.imshow(\"Rotated\",rotated_image)\n",
    "cv2.waitKey()\n",
    "cv2.destroyAllWindows()\n",
    "\n",
    "print(rotation_matrix)"
   ]
  },
  {
   "cell_type": "markdown",
   "metadata": {},
   "source": [
    "Ya que la imagen resultado queda recortada y con mucho espacio en negro podemos arreglarlo haciendo lo siguiente: cv2.transpose"
   ]
  },
  {
   "cell_type": "code",
   "execution_count": 5,
   "metadata": {},
   "outputs": [],
   "source": [
    "img=cv2.imread(\"images/bus_stop/1.jpg\")\n",
    "\n",
    "rotated_image=cv2.transpose(img)\n",
    "\n",
    "cv2.imshow(\"Original\",img)\n",
    "cv2.imshow(\"Rotated - Method 2\",rotated_image)\n",
    "cv2.waitKey()\n",
    "cv2.destroyAllWindows()"
   ]
  },
  {
   "cell_type": "code",
   "execution_count": null,
   "metadata": {},
   "outputs": [],
   "source": []
  }
 ],
 "metadata": {
  "kernelspec": {
   "display_name": "Python 3",
   "language": "python",
   "name": "python3"
  },
  "language_info": {
   "codemirror_mode": {
    "name": "ipython",
    "version": 3
   },
   "file_extension": ".py",
   "mimetype": "text/x-python",
   "name": "python",
   "nbconvert_exporter": "python",
   "pygments_lexer": "ipython3",
   "version": "3.6.5"
  }
 },
 "nbformat": 4,
 "nbformat_minor": 2
}
