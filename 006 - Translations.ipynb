{
 "cells": [
  {
   "cell_type": "code",
   "execution_count": 2,
   "metadata": {},
   "outputs": [],
   "source": [
    "import cv2\n",
    "import numpy as np\n",
    "\n",
    "image=cv2.imread(\"images/bus_stop/1.jpg\")\n",
    "#guardarmos las dimensiones\n",
    "height, width = image.shape[:2]\n",
    "\n",
    "quarter_height, quarter_width=height/4, width/4\n",
    "\n",
    "#     |1 0 Tx|\n",
    "# T = |0 1 Ty|\n",
    "\n",
    "#T es nuestra matriz de tranlación\n",
    "T=np.float32([[1,0,quarter_width],[0,1,quarter_height]])\n",
    "\n",
    "#we use warpAffine to transform the image using the matrix, T\n",
    "img_translation=cv2.warpAffine(image,T,(width,height))\n",
    "cv2.imshow(\"Original\",image)\n",
    "cv2.imshow(\"Translation\",img_translation)\n",
    "cv2.waitKey()\n",
    "cv2.destroyAllWindows()"
   ]
  },
  {
   "cell_type": "code",
   "execution_count": 3,
   "metadata": {},
   "outputs": [
    {
     "name": "stdout",
     "output_type": "stream",
     "text": [
      "[[  1.   0. 300.]\n",
      " [  0.   1. 200.]]\n"
     ]
    }
   ],
   "source": [
    "print(T)"
   ]
  },
  {
   "cell_type": "code",
   "execution_count": null,
   "metadata": {},
   "outputs": [],
   "source": []
  }
 ],
 "metadata": {
  "kernelspec": {
   "display_name": "Python 3",
   "language": "python",
   "name": "python3"
  },
  "language_info": {
   "codemirror_mode": {
    "name": "ipython",
    "version": 3
   },
   "file_extension": ".py",
   "mimetype": "text/x-python",
   "name": "python",
   "nbconvert_exporter": "python",
   "pygments_lexer": "ipython3",
   "version": "3.6.5"
  }
 },
 "nbformat": 4,
 "nbformat_minor": 2
}
