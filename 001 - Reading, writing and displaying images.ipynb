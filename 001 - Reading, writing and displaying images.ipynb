{
 "cells": [
  {
   "cell_type": "markdown",
   "metadata": {},
   "source": [
    "Primero importar la librería de OpenCV "
   ]
  },
  {
   "cell_type": "code",
   "execution_count": 1,
   "metadata": {},
   "outputs": [],
   "source": [
    "import cv2"
   ]
  },
  {
   "cell_type": "markdown",
   "metadata": {},
   "source": [
    "Importamos también Numpy"
   ]
  },
  {
   "cell_type": "code",
   "execution_count": 2,
   "metadata": {},
   "outputs": [],
   "source": [
    "import numpy as np"
   ]
  },
  {
   "cell_type": "markdown",
   "metadata": {},
   "source": [
    "Ahora cargamos una imagen"
   ]
  },
  {
   "cell_type": "code",
   "execution_count": 4,
   "metadata": {},
   "outputs": [],
   "source": [
    "my_image=cv2.imread(\"images/bus_stop/1.jpg\") #se especifica la ruta de la imagen\n",
    "\n",
    "cv2.imshow(\"Hello world\",my_image) #para mostrar se usa imshow y es necesario un titulo\n",
    "\n",
    "cv2.waitKey() #este metodo permite ingresar información cuando la imagen está abierta\n",
    "#Al estar en blanco espera cualquier tecla a ser presioanda, se puede port un int para segundos\n",
    "\n",
    "cv2.destroyAllWindows() #cierra todas las ventanas abiertas"
   ]
  },
  {
   "cell_type": "markdown",
   "metadata": {},
   "source": [
    "Como se almacena una imagen?"
   ]
  },
  {
   "cell_type": "code",
   "execution_count": 8,
   "metadata": {},
   "outputs": [
    {
     "name": "stdout",
     "output_type": "stream",
     "text": [
      "(800, 1200, 3)\n"
     ]
    }
   ],
   "source": [
    "print(my_image.shape)\n",
    "#alto, ancho, largo (dimensiones 2d y RGB)"
   ]
  },
  {
   "cell_type": "code",
   "execution_count": 11,
   "metadata": {},
   "outputs": [
    {
     "name": "stdout",
     "output_type": "stream",
     "text": [
      "Altura de la imagen: 800 pixeles\n",
      "Anchura de la imagen: 1200 pixeles\n"
     ]
    }
   ],
   "source": [
    "print(\"Altura de la imagen:\",int(my_image.shape[0]),\"pixeles\")\n",
    "print(\"Anchura de la imagen:\",int(my_image.shape[1]),\"pixeles\")"
   ]
  },
  {
   "cell_type": "markdown",
   "metadata": {},
   "source": [
    "Guardar una imagen"
   ]
  },
  {
   "cell_type": "code",
   "execution_count": 13,
   "metadata": {},
   "outputs": [
    {
     "data": {
      "text/plain": [
       "True"
      ]
     },
     "execution_count": 13,
     "metadata": {},
     "output_type": "execute_result"
    }
   ],
   "source": [
    "#simplemente usamos imwrite especificando el nomnbre y extensión\n",
    "cv2.imwrite('1_output.jpg',my_image)"
   ]
  },
  {
   "cell_type": "code",
   "execution_count": null,
   "metadata": {},
   "outputs": [],
   "source": []
  }
 ],
 "metadata": {
  "kernelspec": {
   "display_name": "Python 3",
   "language": "python",
   "name": "python3"
  },
  "language_info": {
   "codemirror_mode": {
    "name": "ipython",
    "version": 3
   },
   "file_extension": ".py",
   "mimetype": "text/x-python",
   "name": "python",
   "nbconvert_exporter": "python",
   "pygments_lexer": "ipython3",
   "version": "3.6.5"
  }
 },
 "nbformat": 4,
 "nbformat_minor": 2
}
