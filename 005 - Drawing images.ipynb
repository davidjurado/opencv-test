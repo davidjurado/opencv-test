{
 "cells": [
  {
   "cell_type": "markdown",
   "metadata": {},
   "source": [
    "Black square"
   ]
  },
  {
   "cell_type": "code",
   "execution_count": 2,
   "metadata": {},
   "outputs": [],
   "source": [
    "import cv2\n",
    "import numpy as np\n",
    "\n",
    "#create the image\n",
    "image=np.zeros((512,512,3),np.uint8)\n",
    "#podemos hacerlo blanco y negro\n",
    "image_bw=np.zeros((512,512),np.uint8)\n",
    "\n",
    "cv2.imshow(\"Black rectangle (Color)\",image)\n",
    "cv2.imshow(\"Black rectangle (B&W)\",image_bw)\n",
    "\n",
    "cv2.waitKey()\n",
    "cv2.destroyAllWindows()"
   ]
  },
  {
   "cell_type": "markdown",
   "metadata": {},
   "source": [
    "Line over black square"
   ]
  },
  {
   "cell_type": "code",
   "execution_count": 3,
   "metadata": {},
   "outputs": [],
   "source": [
    "#diagonal blue line\n",
    "image=np.zeros((512,512,3),np.uint8)\n",
    "cv2.line(image,(0,0),(511,511),(255,124,0),5)#(imagen,origen,destino,color,grosor)\n",
    "cv2.imshow(\"blue line\",image)\n",
    "\n",
    "cv2.waitKey()\n",
    "cv2.destroyAllWindows()"
   ]
  },
  {
   "cell_type": "markdown",
   "metadata": {},
   "source": [
    " Rectangle inside"
   ]
  },
  {
   "cell_type": "code",
   "execution_count": 4,
   "metadata": {},
   "outputs": [],
   "source": [
    "#draw a rectangle inside\n",
    "image=np.zeros((512,512,3),np.uint8)\n",
    "\n",
    "cv2.rectangle(image,(100,100),(300,250),(127,50,127),5) # si se pone -1 llenaria el rectangulo\n",
    "cv2.imshow(\"Rectangle\",image)\n",
    "\n",
    "cv2.waitKey()\n",
    "cv2.destroyAllWindows()"
   ]
  },
  {
   "cell_type": "markdown",
   "metadata": {},
   "source": [
    "Circle"
   ]
  },
  {
   "cell_type": "code",
   "execution_count": 6,
   "metadata": {},
   "outputs": [],
   "source": [
    "image=np.zeros((512,512,3),np.uint8)\n",
    "\n",
    "cv2.circle(image,(350,350),100,(15,75,50),-1)\n",
    "cv2.imshow(\"Circle\",image)\n",
    "\n",
    "cv2.waitKey()\n",
    "cv2.destroyAllWindows()"
   ]
  },
  {
   "cell_type": "markdown",
   "metadata": {},
   "source": [
    "Polygons"
   ]
  },
  {
   "cell_type": "code",
   "execution_count": 9,
   "metadata": {},
   "outputs": [],
   "source": [
    "image=np.zeros((512,512,3),np.uint8)\n",
    "#se definen los puntos\n",
    "pts=np.array([[10,50],[400,50],[90,200],[50,500]],np.int32)\n",
    "#re-formar puntos de manera requerida por polylines\n",
    "pts=pts.reshape((-1,1,2))\n",
    "\n",
    "cv2.polylines(image,[pts],True,(0,0,255),3) #imagen,puntos,cerrado?,color,grosor\n",
    "cv2.imshow(\"Polygon\",image)\n",
    "cv2.waitKey()\n",
    "cv2.destroyAllWindows()"
   ]
  },
  {
   "cell_type": "markdown",
   "metadata": {},
   "source": [
    "**Even text**\n",
    "cv2.putText(image,'Text to display',bottom left starting point,Font,size,color,thickness)\n",
    "\n",
    "* FONT_HERSHEY_SIMPLEX, FONT_HERSHEY_PLAIN\n",
    "* FONT_HERSHEY_DUPLEX, FONT_HERSHEY_COMPLEX\n",
    "* FONT_HERSHEY_TRIPLEX, FONT_HERSHEY_COMPLEX_SMALL\n",
    "* FONT_HERSHEY_SCRIPT_SIMPLEX\n",
    "* FONT_HERSHEY_SCRIPT_COMPLEX"
   ]
  },
  {
   "cell_type": "code",
   "execution_count": 10,
   "metadata": {},
   "outputs": [],
   "source": [
    "image=np.zeros((512,512,3),np.uint8)\n",
    "\n",
    "cv2.putText(image,\"Hello world\",(75,290),cv2.FONT_HERSHEY_COMPLEX,2,(100,170,0),3)\n",
    "cv2.imshow(\"Text\",image)\n",
    "cv2.waitKey()\n",
    "cv2.destroyAllWindows()"
   ]
  },
  {
   "cell_type": "code",
   "execution_count": null,
   "metadata": {},
   "outputs": [],
   "source": []
  }
 ],
 "metadata": {
  "kernelspec": {
   "display_name": "Python 3",
   "language": "python",
   "name": "python3"
  },
  "language_info": {
   "codemirror_mode": {
    "name": "ipython",
    "version": 3
   },
   "file_extension": ".py",
   "mimetype": "text/x-python",
   "name": "python",
   "nbconvert_exporter": "python",
   "pygments_lexer": "ipython3",
   "version": "3.6.5"
  }
 },
 "nbformat": 4,
 "nbformat_minor": 2
}
