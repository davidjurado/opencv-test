{
 "cells": [
  {
   "cell_type": "markdown",
   "metadata": {},
   "source": [
    "In Thresholding, we convert a grey scale image to it's binary form"
   ]
  },
  {
   "cell_type": "code",
   "execution_count": 3,
   "metadata": {},
   "outputs": [],
   "source": [
    "import cv2\n",
    "import numpy as np\n",
    "\n",
    "#Load our image as greyscale\n",
    "image=cv2.imread(\"images/bus_stop/1.jpg\",0) #se tiene que trabajar con greyscale images\n",
    "cv2.imshow(\"Original\",image)\n",
    "\n",
    "#Values below 127 goes to 0 (black, everything above goes to 255(white))\n",
    "ret, thresh1=cv2.threshold(image,127,255,cv2.THRESH_BINARY)\n",
    "cv2.imshow(\"1 Threshold Binary\",thresh1)\n",
    "\n",
    "#Values below 127 go to 255 and above 127 go to 0\n",
    "ret, thresh2=cv2.threshold(image,127,255,cv2.THRESH_BINARY_INV)\n",
    "cv2.imshow(\"2 Threshold Binary Inverse\",thresh2)\n",
    "\n",
    "#Values above 127 are trucated (held) at 127 (the argument is unused)\n",
    "ret, thresh3=cv2.threshold(image,127,255,cv2.THRESH_TRUNC)\n",
    "cv2.imshow(\"3 Threshold Trunc\",thresh3)\n",
    "\n",
    "#Values below 127 go to 0, above 127 are unchanged\n",
    "ret, thresh4=cv2.threshold(image,127,255,cv2.THRESH_TOZERO)\n",
    "cv2.imshow(\"4 Threshold To Zero\",thresh4)\n",
    "\n",
    "#Reverse of above, below 127 is unchange, above 127 goes to 0\n",
    "ret, thresh5=cv2.threshold(image,127,255,cv2.THRESH_TOZERO_INV)\n",
    "cv2.imshow(\"3 Threshold Trunc\",thresh5)\n",
    "\n",
    "cv2.waitKey()\n",
    "cv2.destroyAllWindows()"
   ]
  },
  {
   "cell_type": "markdown",
   "metadata": {},
   "source": [
    "**Is there a beter way of Thresholding?**\n",
    "\n",
    "The biggest downfall of those simple threshold methods is that we need to provide the threshold value (i.e. the 127 value we used previously).\n",
    "\n",
    "Adaptive thresholding is the answer"
   ]
  },
  {
   "cell_type": "code",
   "execution_count": 4,
   "metadata": {},
   "outputs": [],
   "source": [
    "import cv2\n",
    "import numpy as np\n",
    "\n",
    "#Load our new image\n",
    "image=cv2.imread(\"images/bus_stop/1.jpg\",0)\n",
    "\n",
    "cv2.imshow(\"Original\",image)\n",
    "cv2.waitKey()\n",
    "\n",
    "#values below 127 goes to 0 (black, everything above goes to 255 (white))\n",
    "ret, thresh1 = cv2.threshold(image,127,255,cv2.THRESH_BINARY)\n",
    "cv2.imshow(\"Threshold Binary\",thresh1)\n",
    "cv2.waitKey()\n",
    "\n",
    "#It's good practice to blur images as it removes noise\n",
    "image=cv2.GaussianBlur(image,(3,3),0)\n",
    "\n",
    "#Using adaptiveThreshold\n",
    "thresh = cv2.adaptiveThreshold(image,255,cv2.ADAPTIVE_THRESH_MEAN_C,cv2.THRESH_BINARY,3,5)\n",
    "cv2.imshow(\"Adaptive Mean Thresholding\",thresh)\n",
    "cv2.waitKey()\n",
    "\n",
    "_, th2 = cv2.threshold(image,0,255,cv2.THRESH_BINARY+cv2.THRESH_OTSU)\n",
    "cv2.imshow(\"Otsu's Thresholding\",thresh)\n",
    "cv2.waitKey()\n",
    "\n",
    "#Otsu's thresholding after Gaussian filtering\n",
    "blur=cv2.GaussianBlur(image,(5,5),0)\n",
    "_,th3=cv2.threshold(blur,0,255,cv2.THRESH_BINARY+cv2.THRESH_OTSU)\n",
    "cv2.imshow(\"Gaussian Otsu's Thresholding\",th3)\n",
    "cv2.waitKey()\n",
    "\n",
    "cv2.destroyAllWindows()"
   ]
  },
  {
   "cell_type": "code",
   "execution_count": null,
   "metadata": {},
   "outputs": [],
   "source": []
  }
 ],
 "metadata": {
  "kernelspec": {
   "display_name": "Python 3",
   "language": "python",
   "name": "python3"
  },
  "language_info": {
   "codemirror_mode": {
    "name": "ipython",
    "version": 3
   },
   "file_extension": ".py",
   "mimetype": "text/x-python",
   "name": "python",
   "nbconvert_exporter": "python",
   "pygments_lexer": "ipython3",
   "version": "3.6.5"
  }
 },
 "nbformat": 4,
 "nbformat_minor": 2
}
