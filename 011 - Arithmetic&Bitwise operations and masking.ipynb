{
 "cells": [
  {
   "cell_type": "markdown",
   "metadata": {},
   "source": [
    "Estas son operaciones que nos permiten añadir o sustraer directamente a la intensidad del color"
   ]
  },
  {
   "cell_type": "code",
   "execution_count": 2,
   "metadata": {},
   "outputs": [],
   "source": [
    "import cv2\n",
    "import numpy as np\n",
    "\n",
    "image=cv2.imread(\"images/bus_stop/1.jpg\")\n",
    "\n",
    "#create a matrix of ones, then multiply it by a scaler of 100\n",
    "#this gives a matrix with same dimesions for our image with all values being 100\n",
    "M=np.ones(image.shape,dtype=\"uint8\")*75\n",
    "\n",
    "#We use this to add M to our image, notice the increase in brigthtness\n",
    "added=cv2.add(image,M)\n",
    "cv2.imshow(\"Added\",added)\n",
    "\n",
    "#Likewise we can also subtract, notice the decrease in brigthtness\n",
    "subtracted=cv2.subtract(image,M)\n",
    "cv2.imshow(\"Subtracted\",subtracted)\n",
    "\n",
    "cv2.waitKey()\n",
    "cv2.destroyAllWindows()"
   ]
  },
  {
   "cell_type": "markdown",
   "metadata": {},
   "source": [
    "Bitwise operations and masking"
   ]
  },
  {
   "cell_type": "code",
   "execution_count": 6,
   "metadata": {},
   "outputs": [],
   "source": [
    "#making a square\n",
    "square=np.zeros((300,300),np.uint8)\n",
    "cv2.rectangle(square,(50,50),(250,250),255,-2)\n",
    "\n",
    "cv2.imshow(\"Square\",square)\n",
    "cv2.waitKey()\n",
    "cv2.destroyAllWindows()\n",
    "\n",
    "#making a ellipse\n",
    "ellipse=np.zeros((300,300),np.uint8)\n",
    "cv2.ellipse(ellipse,(150,150),(150,150),30,0,180,255,-1)\n",
    "\n",
    "cv2.imshow(\"Ellipse\",ellipse)\n",
    "cv2.waitKey()\n",
    "cv2.destroyAllWindows()"
   ]
  },
  {
   "cell_type": "markdown",
   "metadata": {},
   "source": [
    "Experimenting with some bitwise operations"
   ]
  },
  {
   "cell_type": "code",
   "execution_count": 7,
   "metadata": {},
   "outputs": [],
   "source": [
    "#Shows only where they intersect\n",
    "bitwiseAnd=cv2.bitwise_and(square,ellipse)\n",
    "cv2.imshow(\"AND\",bitwiseAnd)\n",
    "cv2.waitKey()\n",
    "\n",
    "#Shows where either square or ellipse is\n",
    "bitwiseOr=cv2.bitwise_or(square,ellipse)\n",
    "cv2.imshow(\"OR\",bitwiseOr)\n",
    "cv2.waitKey()\n",
    "\n",
    "#Shows where either exist by itself\n",
    "bitwiseXor=cv2.bitwise_xor(square,ellipse)\n",
    "cv2.imshow(\"XOR\",bitwiseXor)\n",
    "cv2.waitKey()\n",
    "\n",
    "#Shows where either square or ellipse is\n",
    "bitwiseNot_sq=cv2.bitwise_not(square)\n",
    "cv2.imshow(\"NOT-Square\",bitwiseNot_sq)\n",
    "cv2.waitKey()\n",
    "\n",
    "cv2.destroyAllWindows()"
   ]
  },
  {
   "cell_type": "code",
   "execution_count": null,
   "metadata": {},
   "outputs": [],
   "source": []
  }
 ],
 "metadata": {
  "kernelspec": {
   "display_name": "Python 3",
   "language": "python",
   "name": "python3"
  },
  "language_info": {
   "codemirror_mode": {
    "name": "ipython",
    "version": 3
   },
   "file_extension": ".py",
   "mimetype": "text/x-python",
   "name": "python",
   "nbconvert_exporter": "python",
   "pygments_lexer": "ipython3",
   "version": "3.6.5"
  }
 },
 "nbformat": 4,
 "nbformat_minor": 2
}
