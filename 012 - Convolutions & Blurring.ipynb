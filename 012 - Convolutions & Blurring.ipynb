{
 "cells": [
  {
   "cell_type": "code",
   "execution_count": 2,
   "metadata": {},
   "outputs": [],
   "source": [
    "import cv2\n",
    "import numpy as np\n",
    "\n",
    "image=cv2.imread(\"images/bus_stop/1.jpg\")\n",
    "cv2.imshow(\"Original\",image)\n",
    "cv2.waitKey()\n",
    "\n",
    "#creating a 3x3 kernel\n",
    "kernel_3x3=np.ones((3,3),np.float32)/9\n",
    "\n",
    "#We use the cv2.filter2D to convolve the kernel with an image\n",
    "blurred=cv2.filter2D(image,-1,kernel_3x3)\n",
    "cv2.imshow(\"3x3 Kernel Blurring\",blurred)\n",
    "cv2.waitKey()\n",
    "\n",
    "#Creating a 7x7 kernel\n",
    "kernel_7x7=np.ones((7,7),np.float32)/49\n",
    "\n",
    "blurred2=cv2.filter2D(image,-1,kernel_7x7)\n",
    "cv2.imshow(\"7x7 Kernel Blurring\",blurred2)\n",
    "cv2.waitKey()\n",
    "\n",
    "cv2.destroyAllWindows()"
   ]
  },
  {
   "cell_type": "markdown",
   "metadata": {},
   "source": [
    "Other commonly used blurring methodsin OpenCV"
   ]
  },
  {
   "cell_type": "code",
   "execution_count": 5,
   "metadata": {},
   "outputs": [],
   "source": [
    "import cv2\n",
    "import numpy as np\n",
    "\n",
    "image=cv2.imread(\"images/bus_stop/1.jpg\")\n",
    "\n",
    "#Averaging done by convolving the image with a normalized box filter. This takes the pixels\n",
    "#under the box and replaces the central element box size needs to odd and positive\n",
    "blur=cv2.blur(image,(3,3))\n",
    "cv2.imshow(\"Averaging\",blur)\n",
    "cv2.waitKey()\n",
    "\n",
    "#instead of box filter, gaussian kernel\n",
    "gaussian=cv2.GaussianBlur(image,(7,7),0)\n",
    "cv2.imshow(\"Gaussian Blurring\",gaussian)\n",
    "cv2.waitKey()\n",
    "\n",
    "#takes median of all the pixels under kernel area and central element is replaced with median value\n",
    "median=cv2.medianBlur(image,5)\n",
    "cv2.imshow(\"Median Blurring\", median)\n",
    "cv2.waitKey()\n",
    "\n",
    "#Bilateral is very effective in noise removal while keeping edges sharp\n",
    "bilateral=cv2.bilateralFilter(image,9,75,75)\n",
    "cv2.imshow(\"Bilateral Blurring\",bilateral)\n",
    "cv2.waitKey()\n",
    "\n",
    "cv2.destroyAllWindows()"
   ]
  },
  {
   "cell_type": "markdown",
   "metadata": {},
   "source": [
    "Image De-noising - Non-Local Means Denosing"
   ]
  },
  {
   "cell_type": "code",
   "execution_count": 7,
   "metadata": {},
   "outputs": [],
   "source": [
    "import cv2\n",
    "import numpy as np\n",
    "\n",
    "image=cv2.imread(\"images/bus_stop/1.jpg\")\n",
    "\n",
    "#parameters, after None are - the filter strength 'h' (5-10 is a good range)\n",
    "#Next is hForColorComponents, set as same value as h again\n",
    "\n",
    "dst=cv2.fastNlMeansDenoisingColored(image,None,6,6,7,21)\n",
    "\n",
    "cv2.imshow(\"Fast Means Denoising\",dst)\n",
    "cv2.waitKey()\n",
    "cv2.destroyAllWindows()"
   ]
  },
  {
   "cell_type": "markdown",
   "metadata": {},
   "source": [
    "**There are 4 variations of Non-Local Means Denoising:**\n",
    "\n",
    "* cv2.fastNlMeansDenoising() - works with a single grayscale images\n",
    "* cv2.fastNlMeansDenoisingColored - works with a color image\n",
    "* cv2.fastNlMeansDenoisingColoredMulti - works with image sequence captured in short period of time\n",
    "* cv2.fastNlMeansDenoisingMulti - same as above, but for color images"
   ]
  },
  {
   "cell_type": "code",
   "execution_count": null,
   "metadata": {},
   "outputs": [],
   "source": []
  }
 ],
 "metadata": {
  "kernelspec": {
   "display_name": "Python 3",
   "language": "python",
   "name": "python3"
  },
  "language_info": {
   "codemirror_mode": {
    "name": "ipython",
    "version": 3
   },
   "file_extension": ".py",
   "mimetype": "text/x-python",
   "name": "python",
   "nbconvert_exporter": "python",
   "pygments_lexer": "ipython3",
   "version": "3.6.5"
  }
 },
 "nbformat": 4,
 "nbformat_minor": 2
}
